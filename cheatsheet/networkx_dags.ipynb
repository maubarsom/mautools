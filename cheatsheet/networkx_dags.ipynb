{
 "cells": [
  {
   "cell_type": "markdown",
   "id": "552451ab",
   "metadata": {},
   "source": [
    "# Networkx + graphviz for DAG dependency analysis\n",
    "\n",
    "Explorations on how to use networkx + graphviz to parse and subset dags\n",
    "\n",
    "The aim is to find and subset only the parents of a sink node, and print only the relevant subset of the graph\n",
    "\n",
    "## prereqs\n",
    "\n",
    "`brew install graphviz`\n",
    "\n",
    "`pip install networkx matplotlib pygraphviz`"
   ]
  },
  {
   "cell_type": "code",
   "execution_count": 34,
   "id": "14e241cc",
   "metadata": {},
   "outputs": [],
   "source": [
    "import networkx as nx"
   ]
  },
  {
   "cell_type": "code",
   "execution_count": 35,
   "id": "8bccb43f",
   "metadata": {},
   "outputs": [],
   "source": [
    "dg = nx.DiGraph()"
   ]
  },
  {
   "cell_type": "code",
   "execution_count": 36,
   "id": "a3069ed9",
   "metadata": {},
   "outputs": [],
   "source": [
    "dg.add_node(1, **{\"name\":\"a\",\"type\":\"T1\"})\n",
    "dg.add_node(2, **{\"name\":\"b\",\"type\":\"T2\"})\n",
    "dg.add_node(3, **{\"name\":\"c\",\"type\":\"T3\"})\n",
    "dg.add_node(4, **{\"name\":\"d\",\"type\":\"T1\"})\n",
    "dg.add_node(5, **{\"name\":\"e\",\"type\":\"T1\"})\n",
    "dg.add_node(6, **{\"name\":\"e\",\"type\":\"T1\"})\n"
   ]
  },
  {
   "cell_type": "code",
   "execution_count": 37,
   "id": "ad3549d0",
   "metadata": {},
   "outputs": [],
   "source": [
    "dg.add_edge(1,2)\n",
    "dg.add_edge(2,3)\n",
    "dg.add_edge(3,6)\n",
    "dg.add_edge(2,4)\n",
    "dg.add_edge(4,5)"
   ]
  },
  {
   "cell_type": "code",
   "execution_count": 38,
   "id": "459a3876",
   "metadata": {},
   "outputs": [
    {
     "data": {
      "text/plain": [
       "NodeView((1, 2, 3, 4, 5, 6))"
      ]
     },
     "execution_count": 38,
     "metadata": {},
     "output_type": "execute_result"
    }
   ],
   "source": [
    "dg.nodes"
   ]
  },
  {
   "cell_type": "markdown",
   "id": "fd554baf",
   "metadata": {},
   "source": [
    "Write a Graphviz dot file for visualization"
   ]
  },
  {
   "cell_type": "code",
   "execution_count": 39,
   "id": "79173ad6",
   "metadata": {},
   "outputs": [],
   "source": [
    "nx.nx_agraph.write_dot(dg,\"dg.dot\")"
   ]
  },
  {
   "cell_type": "code",
   "execution_count": 40,
   "id": "8f7e96e0",
   "metadata": {},
   "outputs": [],
   "source": [
    "! dot -Tjpg dg.dot -o dg.jpg"
   ]
  },
  {
   "cell_type": "markdown",
   "id": "b13165e2",
   "metadata": {},
   "source": [
    "For the DFS to work to find the \"parent\" deps, the DAG needs to be reverted"
   ]
  },
  {
   "cell_type": "code",
   "execution_count": 41,
   "id": "ea69fb71",
   "metadata": {},
   "outputs": [
    {
     "data": {
      "text/plain": [
       "{4: 5, 2: 4, 1: 2}"
      ]
     },
     "execution_count": 41,
     "metadata": {},
     "output_type": "execute_result"
    }
   ],
   "source": [
    "parents_5 = nx.dfs_predecessors(dg.reverse(), 5)\n",
    "parents_5"
   ]
  },
  {
   "cell_type": "markdown",
   "id": "8a0ca5d2",
   "metadata": {},
   "source": [
    "Create a subgraph from 5 and it's predecessors"
   ]
  },
  {
   "cell_type": "code",
   "execution_count": null,
   "id": "4f142855",
   "metadata": {},
   "outputs": [
    {
     "data": {
      "text/plain": [
       "OutEdgeView([(1, 2), (2, 4), (4, 5)])"
      ]
     },
     "execution_count": 42,
     "metadata": {},
     "output_type": "execute_result"
    }
   ],
   "source": [
    "subg = nx.subgraph(dg,[5]+list(parents_5.keys()))\n",
    "subg.edges"
   ]
  },
  {
   "cell_type": "code",
   "execution_count": 43,
   "id": "1865b604",
   "metadata": {},
   "outputs": [],
   "source": [
    "nx.nx_agraph.write_dot(subg,\"subg.dot\")"
   ]
  },
  {
   "cell_type": "code",
   "execution_count": 44,
   "id": "49080d5c",
   "metadata": {},
   "outputs": [],
   "source": [
    "! dot -Tjpg subg.dot -o subg.jpg"
   ]
  }
 ],
 "metadata": {
  "kernelspec": {
   "display_name": "data13",
   "language": "python",
   "name": "python3"
  },
  "language_info": {
   "codemirror_mode": {
    "name": "ipython",
    "version": 3
   },
   "file_extension": ".py",
   "mimetype": "text/x-python",
   "name": "python",
   "nbconvert_exporter": "python",
   "pygments_lexer": "ipython3",
   "version": "3.13.3"
  }
 },
 "nbformat": 4,
 "nbformat_minor": 5
}
